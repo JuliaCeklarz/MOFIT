{
 "cells": [
  {
   "cell_type": "code",
   "execution_count": 26,
   "metadata": {},
   "outputs": [],
   "source": [
    "import numpy as np\n",
    "import matplotlib.pyplot as plt\n"
   ]
  },
  {
   "cell_type": "code",
   "execution_count": 27,
   "metadata": {},
   "outputs": [],
   "source": [
    "N = 2\n",
    "L = 100     #bok siatki\n",
    "a = L/(2*N)     #bok kwadratowego elementu\n",
    "\n",
    "\n"
   ]
  },
  {
   "cell_type": "code",
   "execution_count": 123,
   "metadata": {},
   "outputs": [],
   "source": [
    "Net = np.zeros([2*N+1, 2*N+1])      #sieć węzłów\n",
    "# Net[-1, 0] = 1\n",
    "\n",
    "Net_first = np.linspace(1, 2*N+1, 2*N+1)    \n",
    "\n",
    "# elements = np.zeros(2*N)"
   ]
  },
  {
   "cell_type": "code",
   "execution_count": 134,
   "metadata": {},
   "outputs": [],
   "source": [
    "for i in range(0, 2*N+1):\n",
    "    for j in range(0, 2*N+1):\n",
    "        Net[i, j] = Net_first[j] + (2*N+1)*i\n",
    "\n",
    "Net = Net[::-1]\n",
    "\n"
   ]
  },
  {
   "cell_type": "code",
   "execution_count": 135,
   "metadata": {},
   "outputs": [
    {
     "name": "stdout",
     "output_type": "stream",
     "text": [
      "[[21. 22. 23. 24. 25.]\n",
      " [16. 17. 18. 19. 20.]\n",
      " [11. 12. 13. 14. 15.]\n",
      " [ 6.  7.  8.  9. 10.]\n",
      " [ 1.  2.  3.  4.  5.]]\n"
     ]
    }
   ],
   "source": [
    "print(Net)\n",
    "# print(Net_1)"
   ]
  },
  {
   "cell_type": "code",
   "execution_count": 132,
   "metadata": {},
   "outputs": [],
   "source": [
    "elements = np.zeros([2*N, 2*N])\n",
    "\n",
    "for i in range(0, 2*N):\n",
    "    for j in range(0, 2*N):\n",
    "        elements[i, j] = Net_first[j] + 2*N*i\n",
    "\n",
    "elements = elements[::-1]"
   ]
  },
  {
   "cell_type": "code",
   "execution_count": 133,
   "metadata": {},
   "outputs": [
    {
     "name": "stdout",
     "output_type": "stream",
     "text": [
      "[[13. 14. 15. 16.]\n",
      " [ 9. 10. 11. 12.]\n",
      " [ 5.  6.  7.  8.]\n",
      " [ 1.  2.  3.  4.]]\n"
     ]
    }
   ],
   "source": [
    "print(elements)"
   ]
  },
  {
   "cell_type": "code",
   "execution_count": 137,
   "metadata": {},
   "outputs": [
    {
     "name": "stdout",
     "output_type": "stream",
     "text": [
      "[[0. 0.]\n",
      " [0. 0.]]\n"
     ]
    }
   ],
   "source": [
    "knots = np.zeros([2, 2])\n",
    "print(knots)"
   ]
  },
  {
   "cell_type": "code",
   "execution_count": 139,
   "metadata": {},
   "outputs": [],
   "source": [
    "if knots[0, 0]:\n",
    "    local_num = 3\n",
    "elif knots[0, 1]:\n",
    "    local_num = 4\n",
    "elif knots[1, 0]:\n",
    "    local_num = 1\n",
    "elif knots[1, 1]:\n",
    "    local_num = 2\n",
    "        "
   ]
  },
  {
   "cell_type": "code",
   "execution_count": 153,
   "metadata": {},
   "outputs": [
    {
     "name": "stdout",
     "output_type": "stream",
     "text": [
      "[-50. -25.   0.  25.  50.]\n"
     ]
    }
   ],
   "source": [
    "Big_net = np.zeros([2*N+1, 2*N+1])\n",
    "Bnet_reference = np.linspace(-L/2.0, L/2.0, 2*N+1)    \n",
    "print(Bnet_reference)"
   ]
  },
  {
   "cell_type": "code",
   "execution_count": 157,
   "metadata": {},
   "outputs": [],
   "source": []
  },
  {
   "cell_type": "code",
   "execution_count": null,
   "metadata": {},
   "outputs": [],
   "source": []
  }
 ],
 "metadata": {
  "kernelspec": {
   "display_name": "Python 3.9.5 64-bit",
   "language": "python",
   "name": "python3"
  },
  "language_info": {
   "codemirror_mode": {
    "name": "ipython",
    "version": 3
   },
   "file_extension": ".py",
   "mimetype": "text/x-python",
   "name": "python",
   "nbconvert_exporter": "python",
   "pygments_lexer": "ipython3",
   "version": "3.9.5"
  },
  "orig_nbformat": 4,
  "vscode": {
   "interpreter": {
    "hash": "916dbcbb3f70747c44a77c7bcd40155683ae19c65e1c03b4aa3499c5328201f1"
   }
  }
 },
 "nbformat": 4,
 "nbformat_minor": 2
}
